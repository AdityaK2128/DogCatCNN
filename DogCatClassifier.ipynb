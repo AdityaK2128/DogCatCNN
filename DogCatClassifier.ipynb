{
 "cells": [
  {
   "cell_type": "code",
   "execution_count": 4,
   "metadata": {
    "id": "jMkGIZqGMnuL"
   },
   "outputs": [],
   "source": [
    "import tensorflow as tf\n",
    "from tensorflow import keras\n",
    "from keras import Sequential\n",
    "from tensorflow.keras.optimizers import Adam\n",
    "from keras.layers import Dense,Flatten, Conv2D, MaxPooling2D  , Dropout, BatchNormalization\n",
    "from keras.preprocessing.image import ImageDataGenerator\n",
    "from keras.callbacks import EarlyStopping, ModelCheckpoint"
   ]
  },
  {
   "cell_type": "code",
   "execution_count": 7,
   "metadata": {
    "colab": {
     "base_uri": "https://localhost:8080/"
    },
    "id": "hH0ij6N_M5-C",
    "outputId": "472b4455-1c0d-4bf4-e5a4-e0e1bcf64c50"
   },
   "outputs": [
    {
     "name": "stdout",
     "output_type": "stream",
     "text": [
      "Found 20000 files belonging to 2 classes.\n"
     ]
    },
    {
     "name": "stderr",
     "output_type": "stream",
     "text": [
      "2024-03-12 18:33:04.106532: I metal_plugin/src/device/metal_device.cc:1154] Metal device set to: Apple M3 Pro\n",
      "2024-03-12 18:33:04.106558: I metal_plugin/src/device/metal_device.cc:296] systemMemory: 36.00 GB\n",
      "2024-03-12 18:33:04.106567: I metal_plugin/src/device/metal_device.cc:313] maxCacheSize: 13.50 GB\n",
      "2024-03-12 18:33:04.106938: I tensorflow/core/common_runtime/pluggable_device/pluggable_device_factory.cc:303] Could not identify NUMA node of platform GPU ID 0, defaulting to 0. Your kernel may not have been built with NUMA support.\n",
      "2024-03-12 18:33:04.107249: I tensorflow/core/common_runtime/pluggable_device/pluggable_device_factory.cc:269] Created TensorFlow device (/job:localhost/replica:0/task:0/device:GPU:0 with 0 MB memory) -> physical PluggableDevice (device: 0, name: METAL, pci bus id: <undefined>)\n"
     ]
    },
    {
     "name": "stdout",
     "output_type": "stream",
     "text": [
      "Found 5000 files belonging to 2 classes.\n"
     ]
    }
   ],
   "source": [
    "# Generators\n",
    "train_ds = keras.utils.image_dataset_from_directory(\n",
    "    \n",
    "    directory = 'TRAINING_PATH',\n",
    "    labels = 'inferred',\n",
    "    label_mode = 'int',\n",
    "    batch_size = 50 ,\n",
    "    image_size = (256,256)\n",
    "\n",
    ")\n",
    "\n",
    "validation_ds = keras.utils.image_dataset_from_directory(\n",
    "    directory = 'VALIDATION_PATH',\n",
    "    labels = 'inferred',\n",
    "    label_mode = 'int',\n",
    "    batch_size = 50 ,\n",
    "    image_size = (256,256)\n",
    ")\n",
    "\n",
    "train_datagen = ImageDataGenerator(\n",
    "    rescale=1./255,\n",
    "    rotation_range=20,\n",
    "    width_shift_range=0.2,\n",
    "    height_shift_range=0.2,\n",
    "    horizontal_flip=True\n",
    ")"
   ]
  },
  {
   "cell_type": "code",
   "execution_count": 8,
   "metadata": {
    "id": "vM6OZ74kOK1v"
   },
   "outputs": [],
   "source": [
    "# Normalisation\n",
    "def process(image,label):\n",
    "  image = tf.cast(image/255. , tf.float32)\n",
    "  return image ,label\n",
    "\n",
    "train_ds = train_ds.map(process)\n",
    "validation_ds = validation_ds.map(process)\n"
   ]
  },
  {
   "cell_type": "code",
   "execution_count": null,
   "metadata": {
    "colab": {
     "base_uri": "https://localhost:8080/"
    },
    "id": "roHKE3jkOw04",
    "outputId": "c4f90ebb-c4cb-4c86-98d5-b70ba403c03b"
   },
   "outputs": [],
   "source": [
    "# model creation\n",
    "\n",
    "model = Sequential([\n",
    "    Conv2D(32, (3, 3), activation='relu', input_shape=(256, 256, 3)),\n",
    "    BatchNormalization(),\n",
    "    MaxPooling2D(2, 2),\n",
    "    Conv2D(64, (3, 3), activation='relu', input_shape=(256, 256, 3)),\n",
    "    BatchNormalization(),\n",
    "    MaxPooling2D(2, 2),\n",
    "    Conv2D(128, (3, 3), activation='relu'),\n",
    "    BatchNormalization(),\n",
    "    MaxPooling2D(2, 2),\n",
    "    Conv2D(256, (3, 3), activation='relu'),\n",
    "    BatchNormalization(),\n",
    "    MaxPooling2D(2, 2),\n",
    "    Flatten(),\n",
    "    Dense(512, activation='relu', kernel_regularizer='l2'),  # L2 regularization\n",
    "    Dropout(0.4),\n",
    "    Dense(1, activation='sigmoid')\n",
    "])\n",
    "\n",
    "\n"
   ]
  },
  {
   "cell_type": "code",
   "execution_count": 10,
   "metadata": {
    "id": "8lf9V-iMZjHl"
   },
   "outputs": [],
   "source": [
    "from tensorflow.keras.optimizers import legacy\n",
    "\n",
    "# Use the legacy Adam optimizer\n",
    "optimizer = legacy.Adam(learning_rate=0.001)\n"
   ]
  },
  {
   "cell_type": "code",
   "execution_count": 11,
   "metadata": {},
   "outputs": [],
   "source": [
    "callbacks = [\n",
    "    EarlyStopping(patience=3, restore_best_weights=True),\n",
    "    ModelCheckpoint('best_model.h5', save_best_only=True)\n",
    "]"
   ]
  },
  {
   "cell_type": "code",
   "execution_count": 12,
   "metadata": {
    "id": "MXzsxSH2RuzU"
   },
   "outputs": [],
   "source": [
    "model.compile(optimizer = 'adam' , loss = 'binary_crossentropy' , metrics = ['accuracy'])"
   ]
  },
  {
   "cell_type": "code",
   "execution_count": 14,
   "metadata": {
    "colab": {
     "base_uri": "https://localhost:8080/"
    },
    "id": "QXLiX9U8TmjF",
    "outputId": "6ae21084-959a-46e9-a4fb-05d154ffd6eb"
   },
   "outputs": [
    {
     "name": "stdout",
     "output_type": "stream",
     "text": [
      "Epoch 1/15\n",
      "400/400 [==============================] - ETA: 0s - loss: 12.2117 - accuracy: 0.6153"
     ]
    },
    {
     "name": "stderr",
     "output_type": "stream",
     "text": [
      "2024-03-12 18:35:35.616969: I tensorflow/core/grappler/optimizers/custom_graph_optimizer_registry.cc:114] Plugin optimizer for device_type GPU is enabled.\n"
     ]
    },
    {
     "name": "stdout",
     "output_type": "stream",
     "text": [
      "400/400 [==============================] - 88s 219ms/step - loss: 12.2117 - accuracy: 0.6153 - val_loss: 3.0096 - val_accuracy: 0.6174\n",
      "Epoch 2/15\n"
     ]
    },
    {
     "name": "stderr",
     "output_type": "stream",
     "text": [
      "/Users/adityakumar/tensorflow-test2/env/lib/python3.8/site-packages/keras/src/engine/training.py:3000: UserWarning: You are saving your model as an HDF5 file via `model.save()`. This file format is considered legacy. We recommend using instead the native Keras format, e.g. `model.save('my_model.keras')`.\n",
      "  saving_api.save_model(\n"
     ]
    },
    {
     "name": "stdout",
     "output_type": "stream",
     "text": [
      "400/400 [==============================] - 88s 219ms/step - loss: 2.6553 - accuracy: 0.6424 - val_loss: 1.4597 - val_accuracy: 0.6350\n",
      "Epoch 3/15\n",
      "400/400 [==============================] - 88s 219ms/step - loss: 0.9929 - accuracy: 0.6690 - val_loss: 0.8238 - val_accuracy: 0.7144\n",
      "Epoch 4/15\n",
      "400/400 [==============================] - 86s 215ms/step - loss: 0.7250 - accuracy: 0.7127 - val_loss: 0.6259 - val_accuracy: 0.7572\n",
      "Epoch 5/15\n",
      "400/400 [==============================] - 84s 209ms/step - loss: 0.6430 - accuracy: 0.7308 - val_loss: 0.6362 - val_accuracy: 0.7390\n",
      "Epoch 6/15\n",
      "400/400 [==============================] - 84s 209ms/step - loss: 0.6198 - accuracy: 0.7545 - val_loss: 0.5768 - val_accuracy: 0.7800\n",
      "Epoch 7/15\n",
      "400/400 [==============================] - 84s 209ms/step - loss: 0.5994 - accuracy: 0.7720 - val_loss: 0.5903 - val_accuracy: 0.7766\n",
      "Epoch 8/15\n",
      "400/400 [==============================] - 83s 207ms/step - loss: 0.5714 - accuracy: 0.7944 - val_loss: 0.6055 - val_accuracy: 0.7892\n",
      "Epoch 9/15\n",
      "400/400 [==============================] - 84s 210ms/step - loss: 0.5588 - accuracy: 0.8245 - val_loss: 0.5263 - val_accuracy: 0.8240\n",
      "Epoch 10/15\n",
      "400/400 [==============================] - 83s 207ms/step - loss: 0.5370 - accuracy: 0.8472 - val_loss: 0.6471 - val_accuracy: 0.7792\n",
      "Epoch 11/15\n",
      "400/400 [==============================] - 83s 207ms/step - loss: 0.4941 - accuracy: 0.8716 - val_loss: 0.4685 - val_accuracy: 0.8764\n",
      "Epoch 12/15\n",
      "400/400 [==============================] - 85s 212ms/step - loss: 0.4642 - accuracy: 0.8876 - val_loss: 0.4607 - val_accuracy: 0.8788\n",
      "Epoch 13/15\n",
      "400/400 [==============================] - 86s 214ms/step - loss: 0.4183 - accuracy: 0.9046 - val_loss: 0.6468 - val_accuracy: 0.8224\n",
      "Epoch 14/15\n",
      "400/400 [==============================] - 85s 213ms/step - loss: 0.4058 - accuracy: 0.9125 - val_loss: 0.6426 - val_accuracy: 0.8006\n",
      "Epoch 15/15\n",
      "400/400 [==============================] - 86s 215ms/step - loss: 0.3803 - accuracy: 0.9208 - val_loss: 0.4476 - val_accuracy: 0.8980\n"
     ]
    }
   ],
   "source": [
    "history = model.fit(train_ds, epochs=15, validation_data=validation_ds, callbacks=callbacks)\n",
    "model.save('DogCatCNN.h5')"
   ]
  },
  {
   "cell_type": "code",
   "execution_count": 15,
   "metadata": {
    "colab": {
     "base_uri": "https://localhost:8080/",
     "height": 430
    },
    "id": "gKqvInhoX60i",
    "outputId": "be2b8633-7859-4ba3-caea-344880056b02"
   },
   "outputs": [
    {
     "data": {
      "image/png": "[encoded data removed]",
      "text/plain": [
       "<Figure size 640x480 with 1 Axes>"
      ]
     },
     "metadata": {},
     "output_type": "display_data"
    }
   ],
   "source": [
    "import matplotlib.pyplot as plt\n",
    "\n",
    "plt.plot(history.history['accuracy'], color = 'red' , label = 'train')\n",
    "plt.plot(history.history['val_accuracy'], color = 'green' , label = 'validation')\n",
    "plt.legend()\n",
    "plt.show()\n"
   ]
  },
  {
   "cell_type": "code",
   "execution_count": 18,
   "metadata": {
    "colab": {
     "base_uri": "https://localhost:8080/"
    },
    "id": "ldp6FpHxYuqO",
    "outputId": "021ff96f-02a2-4f40-dc4f-646dfe2e1373"
   },
   "outputs": [
    {
     "name": "stdout",
     "output_type": "stream",
     "text": [
      "Model: \"sequential\"\n",
      "_________________________________________________________________\n",
      " Layer (type)                Output Shape              Param #   \n",
      "=================================================================\n",
      " conv2d (Conv2D)             (None, 254, 254, 32)      896       \n",
      "                                                                 \n",
      " batch_normalization (Batch  (None, 254, 254, 32)      128       \n",
      " Normalization)                                                  \n",
      "                                                                 \n",
      " max_pooling2d (MaxPooling2  (None, 127, 127, 32)      0         \n",
      " D)                                                              \n",
      "                                                                 \n",
      " conv2d_1 (Conv2D)           (None, 125, 125, 64)      18496     \n",
      "                                                                 \n",
      " batch_normalization_1 (Bat  (None, 125, 125, 64)      256       \n",
      " chNormalization)                                                \n",
      "                                                                 \n",
      " max_pooling2d_1 (MaxPoolin  (None, 62, 62, 64)        0         \n",
      " g2D)                                                            \n",
      "                                                                 \n",
      " conv2d_2 (Conv2D)           (None, 60, 60, 128)       73856     \n",
      "                                                                 \n",
      " batch_normalization_2 (Bat  (None, 60, 60, 128)       512       \n",
      " chNormalization)                                                \n",
      "                                                                 \n",
      " max_pooling2d_2 (MaxPoolin  (None, 30, 30, 128)       0         \n",
      " g2D)                                                            \n",
      "                                                                 \n",
      " conv2d_3 (Conv2D)           (None, 28, 28, 256)       295168    \n",
      "                                                                 \n",
      " batch_normalization_3 (Bat  (None, 28, 28, 256)       1024      \n",
      " chNormalization)                                                \n",
      "                                                                 \n",
      " max_pooling2d_3 (MaxPoolin  (None, 14, 14, 256)       0         \n",
      " g2D)                                                            \n",
      "                                                                 \n",
      " flatten (Flatten)           (None, 50176)             0         \n",
      "                                                                 \n",
      " dense (Dense)               (None, 512)               25690624  \n",
      "                                                                 \n",
      " dropout (Dropout)           (None, 512)               0         \n",
      "                                                                 \n",
      " dense_1 (Dense)             (None, 1)                 513       \n",
      "                                                                 \n",
      "=================================================================\n",
      "Total params: 26081473 (99.49 MB)\n",
      "Trainable params: 26080513 (99.49 MB)\n",
      "Non-trainable params: 960 (3.75 KB)\n",
      "_________________________________________________________________\n"
     ]
    }
   ],
   "source": [
    "\n",
    "model.summary()"
   ]
  },
  {
   "cell_type": "code",
   "execution_count": 27,
   "metadata": {},
   "outputs": [
    {
     "name": "stdout",
     "output_type": "stream",
     "text": [
      "1/1 [==============================] - 0s 60ms/step\n",
      "The image is a ['Dog'].\n"
     ]
    },
    {
     "name": "stderr",
     "output_type": "stream",
     "text": [
      "2024-03-12 19:02:35.490829: I tensorflow/core/grappler/optimizers/custom_graph_optimizer_registry.cc:114] Plugin optimizer for device_type GPU is enabled.\n"
     ]
    }
   ],
   "source": [
    "from tensorflow.keras.preprocessing import image\n",
    "import numpy as np\n",
    "\n",
    "def prepare_custom_image(image_path):\n",
    "    img = image.load_img(image_path, target_size=(256, 256))\n",
    "    img_array = image.img_to_array(img)\n",
    "    img_array = np.expand_dims(img_array, axis=0)  # Create a batch\n",
    "    img_array /= 255.0  # Normalize to [0,1]\n",
    "    return img_array\n",
    "\n",
    "# Example usage\n",
    "custom_image_path = '/Users/adityakumar/Desktop/Screenshots/Screenshot 2024-03-12 at 7.00.44 PM.png'\n",
    "prepared_image = prepare_custom_image(custom_image_path)\n",
    "\n",
    "\n",
    "\n",
    "from tensorflow.keras.models import load_model\n",
    "\n",
    "# Path to your saved model\n",
    "model_path = '/Users/adityakumar/Desktop/Project/DogCat/dog.h5'\n",
    "model = load_model(model_path)\n",
    "\n",
    "prediction = model.predict(prepared_image)\n",
    "predicted_class = np.where(prediction[0] > 0.5, \"Dog\", \"Cat\")\n",
    "print(f\"The image is a {predicted_class}.\")\n",
    "\n"
   ]
  }
 ],
 "metadata": {
  "accelerator": "GPU",
  "colab": {
   "gpuType": "T4",
   "provenance": []
  },
  "kernelspec": {
   "display_name": "Python 3 (ipykernel)",
   "language": "python",
   "name": "python3"
  },
  "language_info": {
   "codemirror_mode": {
    "name": "ipython",
    "version": 3
   },
   "file_extension": ".py",
   "mimetype": "text/x-python",
   "name": "python",
   "nbconvert_exporter": "python",
   "pygments_lexer": "ipython3",
   "version": "3.8.18"
  }
 },
 "nbformat": 4,
 "nbformat_minor": 4
}
